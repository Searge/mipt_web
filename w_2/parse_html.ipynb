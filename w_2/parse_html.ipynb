{
 "cells": [
  {
   "cell_type": "code",
   "execution_count": 1,
   "metadata": {
    "inputHidden": false,
    "outputHidden": false
   },
   "outputs": [],
   "source": [
    "import requests\n",
    "resp = requests.get(\"https://wikipedia.org\")\n",
    "html = resp.text"
   ]
  },
  {
   "cell_type": "code",
   "execution_count": 2,
   "metadata": {
    "inputHidden": false,
    "outputHidden": false
   },
   "outputs": [
    {
     "data": {
      "text/plain": [
       "['//commons.wikimedia.org/',\n",
       " '//www.wikivoyage.org/',\n",
       " '//www.wiktionary.org/',\n",
       " '//www.wikibooks.org/',\n",
       " '//www.wikinews.org/',\n",
       " '//www.wikidata.org/',\n",
       " '//www.wikiversity.org/',\n",
       " '//www.wikiquote.org/',\n",
       " '//www.mediawiki.org/',\n",
       " '//www.wikisource.org/',\n",
       " '//species.wikimedia.org/',\n",
       " '//meta.wikimedia.org/']"
      ]
     },
     "execution_count": 2,
     "metadata": {},
     "output_type": "execute_result"
    }
   ],
   "source": [
    "import re\n",
    "re.findall(r'<a[^>]*other-project-link[^>]*href=\"([^\"]*)', html)"
   ]
  },
  {
   "cell_type": "code",
   "execution_count": 4,
   "metadata": {
    "inputHidden": false,
    "outputHidden": false
   },
   "outputs": [
    {
     "data": {
      "text/plain": [
       "[<a class=\"other-project-link\" href=\"//commons.wikimedia.org/\">\n",
       " <div class=\"other-project-icon\">\n",
       " <div class=\"sprite svg-Commons-logo_sister\"></div>\n",
       " </div>\n",
       " <div class=\"other-project-text\">\n",
       " <span class=\"other-project-title jsl10n\" data-jsl10n=\"commons.name\">Commons</span>\n",
       " <span class=\"other-project-tagline jsl10n\" data-jsl10n=\"commons.slogan\">Freely usable photos &amp; more</span>\n",
       " </div>\n",
       " </a>, <a class=\"other-project-link\" href=\"//www.wikivoyage.org/\">\n",
       " <div class=\"other-project-icon\">\n",
       " <div class=\"sprite svg-Wikivoyage-logo_sister\"></div>\n",
       " </div>\n",
       " <div class=\"other-project-text\">\n",
       " <span class=\"other-project-title jsl10n\" data-jsl10n=\"wikivoyage.name\">Wikivoyage</span>\n",
       " <span class=\"other-project-tagline jsl10n\" data-jsl10n=\"wikivoyage.slogan\">Free travel guide</span>\n",
       " </div>\n",
       " </a>, <a class=\"other-project-link\" href=\"//www.wiktionary.org/\">\n",
       " <div class=\"other-project-icon\">\n",
       " <div class=\"sprite svg-Wiktionary-logo_sister\"></div>\n",
       " </div>\n",
       " <div class=\"other-project-text\">\n",
       " <span class=\"other-project-title jsl10n\" data-jsl10n=\"wiktionary.name\">Wiktionary</span>\n",
       " <span class=\"other-project-tagline jsl10n\" data-jsl10n=\"wiktionary.slogan\">Free dictionary</span>\n",
       " </div>\n",
       " </a>, <a class=\"other-project-link\" href=\"//www.wikibooks.org/\">\n",
       " <div class=\"other-project-icon\">\n",
       " <div class=\"sprite svg-Wikibooks-logo_sister\"></div>\n",
       " </div>\n",
       " <div class=\"other-project-text\">\n",
       " <span class=\"other-project-title jsl10n\" data-jsl10n=\"wikibooks.name\">Wikibooks</span>\n",
       " <span class=\"other-project-tagline jsl10n\" data-jsl10n=\"wikibooks.slogan\">Free textbooks</span>\n",
       " </div>\n",
       " </a>, <a class=\"other-project-link\" href=\"//www.wikinews.org/\">\n",
       " <div class=\"other-project-icon\">\n",
       " <div class=\"sprite svg-Wikinews-logo_sister\"></div>\n",
       " </div>\n",
       " <div class=\"other-project-text\">\n",
       " <span class=\"other-project-title jsl10n\" data-jsl10n=\"wikinews.name\">Wikinews</span>\n",
       " <span class=\"other-project-tagline jsl10n\" data-jsl10n=\"wikinews.slogan\">Free news source</span>\n",
       " </div>\n",
       " </a>, <a class=\"other-project-link\" href=\"//www.wikidata.org/\">\n",
       " <div class=\"other-project-icon\">\n",
       " <div class=\"sprite svg-Wikidata-logo_sister\"></div>\n",
       " </div>\n",
       " <div class=\"other-project-text\">\n",
       " <span class=\"other-project-title jsl10n\" data-jsl10n=\"wikidata.name\">Wikidata</span>\n",
       " <span class=\"other-project-tagline jsl10n\" data-jsl10n=\"wikidata.slogan\">Free knowledge base</span>\n",
       " </div>\n",
       " </a>, <a class=\"other-project-link\" href=\"//www.wikiversity.org/\">\n",
       " <div class=\"other-project-icon\">\n",
       " <div class=\"sprite svg-Wikiversity-logo_sister\"></div>\n",
       " </div>\n",
       " <div class=\"other-project-text\">\n",
       " <span class=\"other-project-title jsl10n\" data-jsl10n=\"wikiversity.name\">Wikiversity</span>\n",
       " <span class=\"other-project-tagline jsl10n\" data-jsl10n=\"wikiversity.slogan\">Free course materials</span>\n",
       " </div>\n",
       " </a>, <a class=\"other-project-link\" href=\"//www.wikiquote.org/\">\n",
       " <div class=\"other-project-icon\">\n",
       " <div class=\"sprite svg-Wikiquote-logo_sister\"></div>\n",
       " </div>\n",
       " <div class=\"other-project-text\">\n",
       " <span class=\"other-project-title jsl10n\" data-jsl10n=\"wikiquote.name\">Wikiquote</span>\n",
       " <span class=\"other-project-tagline jsl10n\" data-jsl10n=\"wikiquote.slogan\">Free quote compendium</span>\n",
       " </div>\n",
       " </a>, <a class=\"other-project-link\" href=\"//www.mediawiki.org/\">\n",
       " <div class=\"other-project-icon\">\n",
       " <div class=\"sprite svg-MediaWiki-logo_sister\"></div>\n",
       " </div>\n",
       " <div class=\"other-project-text\">\n",
       " <span class=\"other-project-title jsl10n\" data-jsl10n=\"mediawiki.name\">MediaWiki</span>\n",
       " <span class=\"other-project-tagline jsl10n\" data-jsl10n=\"mediawiki.slogan\">Free &amp; open wiki application</span>\n",
       " </div>\n",
       " </a>, <a class=\"other-project-link\" href=\"//www.wikisource.org/\">\n",
       " <div class=\"other-project-icon\">\n",
       " <div class=\"sprite svg-Wikisource-logo_sister\"></div>\n",
       " </div>\n",
       " <div class=\"other-project-text\">\n",
       " <span class=\"other-project-title jsl10n\" data-jsl10n=\"wikisource.name\">Wikisource</span>\n",
       " <span class=\"other-project-tagline jsl10n\" data-jsl10n=\"wikisource.slogan\">Free library</span>\n",
       " </div>\n",
       " </a>, <a class=\"other-project-link\" href=\"//species.wikimedia.org/\">\n",
       " <div class=\"other-project-icon\">\n",
       " <div class=\"sprite svg-Wikispecies-logo_sister\"></div>\n",
       " </div>\n",
       " <div class=\"other-project-text\">\n",
       " <span class=\"other-project-title jsl10n\" data-jsl10n=\"wikispecies.name\">Wikispecies</span>\n",
       " <span class=\"other-project-tagline jsl10n\" data-jsl10n=\"wikispecies.slogan\">Free species directory</span>\n",
       " </div>\n",
       " </a>, <a class=\"other-project-link\" href=\"//meta.wikimedia.org/\">\n",
       " <div class=\"other-project-icon\">\n",
       " <div class=\"sprite svg-Meta-Wiki-logo_sister\"></div>\n",
       " </div>\n",
       " <div class=\"other-project-text\">\n",
       " <span class=\"other-project-title jsl10n\" data-jsl10n=\"metawiki.name\">Meta-Wiki</span>\n",
       " <span class=\"other-project-tagline jsl10n\" data-jsl10n=\"metawiki.slogan\">Community coordination &amp; documentation</span>\n",
       " </div>\n",
       " </a>]"
      ]
     },
     "execution_count": 4,
     "metadata": {},
     "output_type": "execute_result"
    }
   ],
   "source": [
    "from bs4 import BeautifulSoup\n",
    "soup = BeautifulSoup(html, 'lxml')\n",
    "tags = soup('a', 'other-project-link')\n",
    "tags"
   ]
  },
  {
   "cell_type": "code",
   "execution_count": 5,
   "metadata": {},
   "outputs": [
    {
     "data": {
      "text/plain": [
       "['//commons.wikimedia.org/',\n",
       " '//www.wikivoyage.org/',\n",
       " '//www.wiktionary.org/',\n",
       " '//www.wikibooks.org/',\n",
       " '//www.wikinews.org/',\n",
       " '//www.wikidata.org/',\n",
       " '//www.wikiversity.org/',\n",
       " '//www.wikiquote.org/',\n",
       " '//www.mediawiki.org/',\n",
       " '//www.wikisource.org/',\n",
       " '//species.wikimedia.org/',\n",
       " '//meta.wikimedia.org/']"
      ]
     },
     "execution_count": 5,
     "metadata": {},
     "output_type": "execute_result"
    }
   ],
   "source": [
    "[tag['href'] for tag in tags]"
   ]
  },
  {
   "cell_type": "code",
   "execution_count": null,
   "metadata": {},
   "outputs": [],
   "source": []
  }
 ],
 "metadata": {
  "kernel_info": {
   "name": "python3"
  },
  "kernelspec": {
   "display_name": "Python 3",
   "language": "python",
   "name": "python3"
  },
  "language_info": {
   "codemirror_mode": {
    "name": "ipython",
    "version": 3
   },
   "file_extension": ".py",
   "mimetype": "text/x-python",
   "name": "python",
   "nbconvert_exporter": "python",
   "pygments_lexer": "ipython3",
   "version": "3.7.3"
  },
  "nteract": {
   "version": "0.12.3"
  }
 },
 "nbformat": 4,
 "nbformat_minor": 4
}
